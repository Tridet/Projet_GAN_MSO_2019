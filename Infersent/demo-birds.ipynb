{
 "cells": [
  {
   "cell_type": "code",
   "execution_count": 1,
   "metadata": {},
   "outputs": [
    {
     "name": "stderr",
     "output_type": "stream",
     "text": [
      "[nltk_data] Downloading package punkt to\n",
      "[nltk_data]     C:\\Users\\Theo\\AppData\\Roaming\\nltk_data...\n",
      "[nltk_data]   Package punkt is already up-to-date!\n"
     ]
    },
    {
     "data": {
      "text/plain": [
       "True"
      ]
     },
     "execution_count": 1,
     "metadata": {},
     "output_type": "execute_result"
    }
   ],
   "source": [
    "# import stuff\n",
    "%load_ext autoreload\n",
    "%autoreload 2\n",
    "%matplotlib inline\n",
    "\n",
    "from random import randint\n",
    "\n",
    "import numpy as np\n",
    "import torch\n",
    "import nltk\n",
    "nltk.download(\"punkt\")"
   ]
  },
  {
   "cell_type": "code",
   "execution_count": 2,
   "metadata": {},
   "outputs": [],
   "source": [
    "import numpy as np\n",
    "import torch\n",
    "import yaml\n",
    "from torch import nn\n",
    "from torch.autograd import Variable\n",
    "from torch.utils.data import DataLoader\n",
    "\n",
    "import sys\n",
    "sys.path.append(\"../../Text-to-Image-Synthesis/\") # à changer selon l'emplacement de ce dossier, pull récent de aelnouby\n",
    "\n",
    "from txt2image_dataset import Text2ImageDataset\n",
    "from utils import Utils, Logger\n",
    "from PIL import Image\n",
    "import h5py"
   ]
  },
  {
   "cell_type": "markdown",
   "metadata": {},
   "source": [
    "Créer un modèle à partir d'InferSent."
   ]
  },
  {
   "cell_type": "code",
   "execution_count": 3,
   "metadata": {},
   "outputs": [],
   "source": [
    "from models_ import InferSent\n",
    "model_version = 1\n",
    "MODEL_PATH = \"../encoder/infersent%s.pickle\" % model_version\n",
    "params_model = {'bsize': 64, 'word_emb_dim': 300, 'enc_lstm_dim': 2048,\n",
    "                'pool_type': 'max', 'dpout_model': 0.0, 'version': model_version}\n",
    "model = InferSent(params_model)\n",
    "model.load_state_dict(torch.load(MODEL_PATH))\n",
    "\n",
    "# Keep it on CPU or put it on GPU\n",
    "use_cuda = True\n",
    "model = model.cuda() if use_cuda else model\n",
    "\n",
    "# If infersent1 -> use GloVe embeddings. If infersent2 -> use InferSent embeddings.\n",
    "W2V_PATH = '../dataset/GloVe/glove.840B.300d.txt' if model_version == 1 else '../dataset/fastText/crawl-300d-2M.vec'\n",
    "model.set_w2v_path(W2V_PATH)"
   ]
  },
  {
   "cell_type": "markdown",
   "metadata": {},
   "source": [
    "Attention, il faut changer le fichier \"config.yaml\" en fonction de l'emplacement des textes pour les oiseaux."
   ]
  },
  {
   "cell_type": "markdown",
   "metadata": {},
   "source": [
    "Ici, on se contente de récupérer les textes dans la variable sentences"
   ]
  },
  {
   "cell_type": "code",
   "execution_count": 4,
   "metadata": {},
   "outputs": [
    {
     "name": "stdout",
     "output_type": "stream",
     "text": [
      "5.0\n",
      "10.0\n",
      "15.0\n",
      "20.0\n",
      "25.0\n",
      "30.0\n",
      "35.0\n",
      "40.0\n",
      "45.0\n",
      "50.0\n",
      "55.0\n",
      "60.0\n",
      "65.0\n",
      "70.0\n",
      "75.0\n",
      "80.0\n",
      "85.0\n",
      "90.0\n",
      "95.0\n",
      "100.0\n"
     ]
    }
   ],
   "source": [
    "import os\n",
    "from os import listdir\n",
    "from glob import glob\n",
    "with open('../../Text-to-Image-Synthesis/config.yaml', 'r') as f:\n",
    "    config = yaml.load(f)\n",
    "    \n",
    "text_path = config['birds_text_path']\n",
    "it = 0\n",
    "sentences = []\n",
    "\n",
    "for _class in sorted(listdir(text_path)):\n",
    "    txt_path = os.path.join(text_path, _class)\n",
    "    it+=1\n",
    "    for txt_file in sorted(glob(txt_path + \"/*.txt\")):\n",
    "        f = open(txt_file, \"r\")\n",
    "        txt = f.readlines()\n",
    "        f.close()\n",
    "        sentences.extend(np.array([line.replace(\"\\n\",\"\") for line in txt]))\n",
    "    if it%20 == 0:\n",
    "        print(it/4)"
   ]
  },
  {
   "cell_type": "code",
   "execution_count": 5,
   "metadata": {},
   "outputs": [
    {
     "data": {
      "text/plain": [
       "117880"
      ]
     },
     "execution_count": 5,
     "metadata": {},
     "output_type": "execute_result"
    }
   ],
   "source": [
    "len(sentences)"
   ]
  },
  {
   "cell_type": "markdown",
   "metadata": {},
   "source": [
    "Ici, on construit le vocabulaire de notre modèle."
   ]
  },
  {
   "cell_type": "code",
   "execution_count": 6,
   "metadata": {},
   "outputs": [
    {
     "name": "stdout",
     "output_type": "stream",
     "text": [
      "Found 5303(/6890) words with w2v vectors\n",
      "Vocab size : 5303\n"
     ]
    }
   ],
   "source": [
    "model.build_vocab(sentences, tokenize=True)"
   ]
  },
  {
   "cell_type": "code",
   "execution_count": 9,
   "metadata": {},
   "outputs": [],
   "source": [
    "torch.save(model,\"model_birds.t7\")"
   ]
  },
  {
   "cell_type": "markdown",
   "metadata": {},
   "source": [
    "Ici on encode les phrases par classe (il y en a 200 pour les oiseaux) dans des fichiers .t7.\n",
    "Ne pas s'inquiéter si on obtient une erreur à la fin du processus, c'est juste qu'on essaye de traiter des fichiers inutiles.\n",
    "\n",
    "Dans le cas suivant, on obtient un fichier t7 par classe, de dimension 4096 * le nombre d'éléments dans la classe."
   ]
  },
  {
   "cell_type": "code",
   "execution_count": 95,
   "metadata": {},
   "outputs": [
    {
     "name": "stdout",
     "output_type": "stream",
     "text": [
      "001.Black_footed_Albatross created\n",
      "002.Laysan_Albatross created\n",
      "003.Sooty_Albatross created\n",
      "004.Groove_billed_Ani created\n",
      "005.Crested_Auklet created\n",
      "006.Least_Auklet created\n",
      "007.Parakeet_Auklet created\n",
      "008.Rhinoceros_Auklet created\n",
      "009.Brewer_Blackbird created\n",
      "010.Red_winged_Blackbird created\n",
      "011.Rusty_Blackbird created\n",
      "012.Yellow_headed_Blackbird created\n",
      "013.Bobolink created\n",
      "014.Indigo_Bunting created\n",
      "015.Lazuli_Bunting created\n",
      "016.Painted_Bunting created\n",
      "017.Cardinal created\n",
      "018.Spotted_Catbird created\n",
      "019.Gray_Catbird created\n",
      "020.Yellow_breasted_Chat created\n",
      "021.Eastern_Towhee created\n",
      "022.Chuck_will_Widow created\n",
      "023.Brandt_Cormorant created\n",
      "024.Red_faced_Cormorant created\n",
      "025.Pelagic_Cormorant created\n",
      "026.Bronzed_Cowbird created\n",
      "027.Shiny_Cowbird created\n",
      "028.Brown_Creeper created\n",
      "029.American_Crow created\n",
      "030.Fish_Crow created\n",
      "031.Black_billed_Cuckoo created\n",
      "032.Mangrove_Cuckoo created\n",
      "033.Yellow_billed_Cuckoo created\n",
      "034.Gray_crowned_Rosy_Finch created\n",
      "035.Purple_Finch created\n",
      "036.Northern_Flicker created\n",
      "037.Acadian_Flycatcher created\n",
      "038.Great_Crested_Flycatcher created\n",
      "039.Least_Flycatcher created\n",
      "040.Olive_sided_Flycatcher created\n",
      "041.Scissor_tailed_Flycatcher created\n",
      "042.Vermilion_Flycatcher created\n",
      "043.Yellow_bellied_Flycatcher created\n",
      "044.Frigatebird created\n",
      "045.Northern_Fulmar created\n",
      "046.Gadwall created\n",
      "047.American_Goldfinch created\n",
      "048.European_Goldfinch created\n",
      "049.Boat_tailed_Grackle created\n",
      "050.Eared_Grebe created\n",
      "051.Horned_Grebe created\n",
      "052.Pied_billed_Grebe created\n",
      "053.Western_Grebe created\n",
      "054.Blue_Grosbeak created\n",
      "055.Evening_Grosbeak created\n",
      "056.Pine_Grosbeak created\n",
      "057.Rose_breasted_Grosbeak created\n",
      "058.Pigeon_Guillemot created\n",
      "059.California_Gull created\n",
      "060.Glaucous_winged_Gull created\n",
      "061.Heermann_Gull created\n",
      "062.Herring_Gull created\n",
      "063.Ivory_Gull created\n",
      "064.Ring_billed_Gull created\n",
      "065.Slaty_backed_Gull created\n",
      "066.Western_Gull created\n",
      "067.Anna_Hummingbird created\n",
      "068.Ruby_throated_Hummingbird created\n",
      "069.Rufous_Hummingbird created\n",
      "070.Green_Violetear created\n",
      "071.Long_tailed_Jaeger created\n",
      "072.Pomarine_Jaeger created\n",
      "073.Blue_Jay created\n",
      "074.Florida_Jay created\n",
      "075.Green_Jay created\n",
      "076.Dark_eyed_Junco created\n",
      "077.Tropical_Kingbird created\n",
      "078.Gray_Kingbird created\n",
      "079.Belted_Kingfisher created\n",
      "080.Green_Kingfisher created\n",
      "081.Pied_Kingfisher created\n",
      "082.Ringed_Kingfisher created\n",
      "083.White_breasted_Kingfisher created\n",
      "084.Red_legged_Kittiwake created\n",
      "085.Horned_Lark created\n",
      "086.Pacific_Loon created\n",
      "087.Mallard created\n",
      "088.Western_Meadowlark created\n",
      "089.Hooded_Merganser created\n",
      "090.Red_breasted_Merganser created\n",
      "091.Mockingbird created\n",
      "092.Nighthawk created\n",
      "093.Clark_Nutcracker created\n",
      "094.White_breasted_Nuthatch created\n",
      "095.Baltimore_Oriole created\n",
      "096.Hooded_Oriole created\n",
      "097.Orchard_Oriole created\n",
      "098.Scott_Oriole created\n",
      "099.Ovenbird created\n",
      "100.Brown_Pelican created\n",
      "101.White_Pelican created\n",
      "102.Western_Wood_Pewee created\n",
      "103.Sayornis created\n",
      "104.American_Pipit created\n",
      "105.Whip_poor_Will created\n",
      "106.Horned_Puffin created\n",
      "107.Common_Raven created\n",
      "108.White_necked_Raven created\n",
      "109.American_Redstart created\n",
      "110.Geococcyx created\n",
      "111.Loggerhead_Shrike created\n",
      "112.Great_Grey_Shrike created\n",
      "113.Baird_Sparrow created\n",
      "114.Black_throated_Sparrow created\n",
      "115.Brewer_Sparrow created\n",
      "116.Chipping_Sparrow created\n",
      "117.Clay_colored_Sparrow created\n",
      "118.House_Sparrow created\n",
      "119.Field_Sparrow created\n",
      "120.Fox_Sparrow created\n",
      "121.Grasshopper_Sparrow created\n",
      "122.Harris_Sparrow created\n",
      "123.Henslow_Sparrow created\n",
      "124.Le_Conte_Sparrow created\n",
      "125.Lincoln_Sparrow created\n",
      "126.Nelson_Sharp_tailed_Sparrow created\n",
      "127.Savannah_Sparrow created\n",
      "128.Seaside_Sparrow created\n",
      "129.Song_Sparrow created\n",
      "130.Tree_Sparrow created\n",
      "131.Vesper_Sparrow created\n",
      "132.White_crowned_Sparrow created\n",
      "133.White_throated_Sparrow created\n",
      "134.Cape_Glossy_Starling created\n",
      "135.Bank_Swallow created\n",
      "136.Barn_Swallow created\n",
      "137.Cliff_Swallow created\n",
      "138.Tree_Swallow created\n",
      "139.Scarlet_Tanager created\n",
      "140.Summer_Tanager created\n",
      "141.Artic_Tern created\n",
      "142.Black_Tern created\n",
      "143.Caspian_Tern created\n",
      "144.Common_Tern created\n",
      "145.Elegant_Tern created\n",
      "146.Forsters_Tern created\n",
      "147.Least_Tern created\n",
      "148.Green_tailed_Towhee created\n",
      "149.Brown_Thrasher created\n",
      "150.Sage_Thrasher created\n",
      "151.Black_capped_Vireo created\n",
      "152.Blue_headed_Vireo created\n",
      "153.Philadelphia_Vireo created\n",
      "154.Red_eyed_Vireo created\n",
      "155.Warbling_Vireo created\n",
      "156.White_eyed_Vireo created\n",
      "157.Yellow_throated_Vireo created\n",
      "158.Bay_breasted_Warbler created\n",
      "159.Black_and_white_Warbler created\n",
      "160.Black_throated_Blue_Warbler created\n",
      "161.Blue_winged_Warbler created\n",
      "162.Canada_Warbler created\n",
      "163.Cape_May_Warbler created\n",
      "164.Cerulean_Warbler created\n",
      "165.Chestnut_sided_Warbler created\n",
      "166.Golden_winged_Warbler created\n",
      "167.Hooded_Warbler created\n",
      "168.Kentucky_Warbler created\n",
      "169.Magnolia_Warbler created\n",
      "170.Mourning_Warbler created\n",
      "171.Myrtle_Warbler created\n",
      "172.Nashville_Warbler created\n",
      "173.Orange_crowned_Warbler created\n",
      "174.Palm_Warbler created\n",
      "175.Pine_Warbler created\n",
      "176.Prairie_Warbler created\n",
      "177.Prothonotary_Warbler created\n",
      "178.Swainson_Warbler created\n",
      "179.Tennessee_Warbler created\n",
      "180.Wilson_Warbler created\n",
      "181.Worm_eating_Warbler created\n",
      "182.Yellow_Warbler created\n",
      "183.Northern_Waterthrush created\n",
      "184.Louisiana_Waterthrush created\n",
      "185.Bohemian_Waxwing created\n",
      "186.Cedar_Waxwing created\n",
      "187.American_Three_toed_Woodpecker created\n",
      "188.Pileated_Woodpecker created\n",
      "189.Red_bellied_Woodpecker created\n",
      "190.Red_cockaded_Woodpecker created\n",
      "191.Red_headed_Woodpecker created\n",
      "192.Downy_Woodpecker created\n",
      "193.Bewick_Wren created\n",
      "194.Cactus_Wren created\n",
      "195.Carolina_Wren created\n",
      "196.House_Wren created\n",
      "197.Marsh_Wren created\n",
      "198.Rock_Wren created\n",
      "199.Winter_Wren created\n",
      "200.Common_Yellowthroat created\n"
     ]
    },
    {
     "ename": "NotADirectoryError",
     "evalue": "[WinError 267] Nom de répertoire non valide: 'C:/Users/Theo/Documents/GitHub/Text-to-Image-Synthesis/data/cvpr2016_cub/text_c10/Black_Footed_Albatross_0001_796111.h5'",
     "output_type": "error",
     "traceback": [
      "\u001b[1;31m---------------------------------------------------------------------------\u001b[0m",
      "\u001b[1;31mNotADirectoryError\u001b[0m                        Traceback (most recent call last)",
      "\u001b[1;32m<ipython-input-95-186c35226a20>\u001b[0m in \u001b[0;36m<module>\u001b[1;34m\u001b[0m\n\u001b[0;32m      7\u001b[0m     \u001b[0mclass_path\u001b[0m \u001b[1;33m=\u001b[0m \u001b[0msave_path\u001b[0m\u001b[1;33m+\u001b[0m\u001b[0m_class\u001b[0m\u001b[1;33m\u001b[0m\u001b[1;33m\u001b[0m\u001b[0m\n\u001b[0;32m      8\u001b[0m     \u001b[1;32mif\u001b[0m \u001b[1;33m(\u001b[0m\u001b[0m_class\u001b[0m \u001b[1;32mnot\u001b[0m \u001b[1;32min\u001b[0m \u001b[0mlistdir\u001b[0m\u001b[1;33m(\u001b[0m\u001b[0msave_path\u001b[0m\u001b[1;33m)\u001b[0m\u001b[1;33m)\u001b[0m \u001b[1;32mand\u001b[0m \u001b[0m_class\u001b[0m\u001b[1;33m[\u001b[0m\u001b[1;33m-\u001b[0m\u001b[1;36m2\u001b[0m\u001b[1;33m:\u001b[0m\u001b[1;33m]\u001b[0m\u001b[1;33m!=\u001b[0m\u001b[1;34m\"t7\"\u001b[0m\u001b[1;33m:\u001b[0m\u001b[1;33m\u001b[0m\u001b[1;33m\u001b[0m\u001b[0m\n\u001b[1;32m----> 9\u001b[1;33m         \u001b[0mdim\u001b[0m \u001b[1;33m=\u001b[0m \u001b[0mint\u001b[0m\u001b[1;33m(\u001b[0m\u001b[0mlen\u001b[0m\u001b[1;33m(\u001b[0m\u001b[0mlistdir\u001b[0m\u001b[1;33m(\u001b[0m\u001b[0mtxt_path\u001b[0m\u001b[1;33m)\u001b[0m\u001b[1;33m)\u001b[0m\u001b[1;33m/\u001b[0m\u001b[1;36m2\u001b[0m\u001b[1;33m)\u001b[0m \u001b[1;31m# parce qu'on a une copie inutile du texte à chaque fois\u001b[0m\u001b[1;33m\u001b[0m\u001b[1;33m\u001b[0m\u001b[0m\n\u001b[0m\u001b[0;32m     10\u001b[0m         \u001b[0mtorch\u001b[0m\u001b[1;33m.\u001b[0m\u001b[0msave\u001b[0m\u001b[1;33m(\u001b[0m\u001b[0mmodel\u001b[0m\u001b[1;33m.\u001b[0m\u001b[0mencode\u001b[0m\u001b[1;33m(\u001b[0m\u001b[0msentences\u001b[0m\u001b[1;33m[\u001b[0m\u001b[0mit\u001b[0m\u001b[1;33m:\u001b[0m\u001b[0mit\u001b[0m\u001b[1;33m+\u001b[0m\u001b[0mdim\u001b[0m\u001b[1;33m]\u001b[0m\u001b[1;33m)\u001b[0m\u001b[1;33m,\u001b[0m \u001b[0mclass_path\u001b[0m \u001b[1;33m+\u001b[0m \u001b[1;34m\".t7\"\u001b[0m\u001b[1;33m)\u001b[0m\u001b[1;33m\u001b[0m\u001b[1;33m\u001b[0m\u001b[0m\n\u001b[0;32m     11\u001b[0m         \u001b[0mit\u001b[0m\u001b[1;33m=\u001b[0m\u001b[0mit\u001b[0m\u001b[1;33m+\u001b[0m\u001b[0mdim\u001b[0m\u001b[1;33m\u001b[0m\u001b[1;33m\u001b[0m\u001b[0m\n",
      "\u001b[1;31mNotADirectoryError\u001b[0m: [WinError 267] Nom de répertoire non valide: 'C:/Users/Theo/Documents/GitHub/Text-to-Image-Synthesis/data/cvpr2016_cub/text_c10/Black_Footed_Albatross_0001_796111.h5'"
     ]
    }
   ],
   "source": [
    "# from os import mkdir\n",
    "# l = len(sentences)\n",
    "# it = 0\n",
    "# save_path = \"embeddings/\"\n",
    "# for _class in sorted(listdir(text_path)):\n",
    "#     txt_path = os.path.join(text_path, _class)\n",
    "#     class_path = save_path+_class\n",
    "#     if (_class not in listdir(save_path)) and _class[-2:]!=\"t7\" and _class[-2:]!=\"h5\":\n",
    "#         dim = int(len(listdir(txt_path))/2) # parce qu'on a une copie inutile du texte à chaque fois\n",
    "#         torch.save(model.encode(sentences[it:it+dim]), class_path + \".t7\")\n",
    "#         it=it+dim\n",
    "#         print(_class+\" created\")"
   ]
  },
  {
   "cell_type": "markdown",
   "metadata": {},
   "source": [
    "Dans ce cas, on créé un fichier .t7 par image."
   ]
  },
  {
   "cell_type": "code",
   "execution_count": 36,
   "metadata": {},
   "outputs": [
    {
     "name": "stdout",
     "output_type": "stream",
     "text": [
      "001.Black_footed_Albatross created\n",
      "002.Laysan_Albatross created\n",
      "003.Sooty_Albatross created\n",
      "004.Groove_billed_Ani created\n",
      "005.Crested_Auklet created\n",
      "006.Least_Auklet created\n",
      "007.Parakeet_Auklet created\n",
      "008.Rhinoceros_Auklet created\n",
      "009.Brewer_Blackbird created\n",
      "010.Red_winged_Blackbird created\n",
      "011.Rusty_Blackbird created\n",
      "012.Yellow_headed_Blackbird created\n",
      "013.Bobolink created\n",
      "014.Indigo_Bunting created\n",
      "015.Lazuli_Bunting created\n",
      "016.Painted_Bunting created\n",
      "017.Cardinal created\n",
      "018.Spotted_Catbird created\n",
      "019.Gray_Catbird created\n",
      "020.Yellow_breasted_Chat created\n",
      "021.Eastern_Towhee created\n",
      "022.Chuck_will_Widow created\n",
      "023.Brandt_Cormorant created\n",
      "024.Red_faced_Cormorant created\n",
      "025.Pelagic_Cormorant created\n",
      "026.Bronzed_Cowbird created\n",
      "027.Shiny_Cowbird created\n",
      "028.Brown_Creeper created\n",
      "029.American_Crow created\n",
      "030.Fish_Crow created\n",
      "031.Black_billed_Cuckoo created\n",
      "032.Mangrove_Cuckoo created\n",
      "033.Yellow_billed_Cuckoo created\n",
      "034.Gray_crowned_Rosy_Finch created\n",
      "035.Purple_Finch created\n",
      "036.Northern_Flicker created\n",
      "037.Acadian_Flycatcher created\n",
      "038.Great_Crested_Flycatcher created\n",
      "039.Least_Flycatcher created\n",
      "040.Olive_sided_Flycatcher created\n",
      "041.Scissor_tailed_Flycatcher created\n",
      "042.Vermilion_Flycatcher created\n",
      "043.Yellow_bellied_Flycatcher created\n",
      "044.Frigatebird created\n",
      "045.Northern_Fulmar created\n",
      "046.Gadwall created\n",
      "047.American_Goldfinch created\n",
      "048.European_Goldfinch created\n",
      "049.Boat_tailed_Grackle created\n",
      "050.Eared_Grebe created\n",
      "051.Horned_Grebe created\n",
      "052.Pied_billed_Grebe created\n",
      "053.Western_Grebe created\n",
      "054.Blue_Grosbeak created\n",
      "055.Evening_Grosbeak created\n",
      "056.Pine_Grosbeak created\n",
      "057.Rose_breasted_Grosbeak created\n",
      "058.Pigeon_Guillemot created\n",
      "059.California_Gull created\n",
      "060.Glaucous_winged_Gull created\n",
      "061.Heermann_Gull created\n",
      "062.Herring_Gull created\n",
      "063.Ivory_Gull created\n",
      "064.Ring_billed_Gull created\n",
      "065.Slaty_backed_Gull created\n",
      "066.Western_Gull created\n",
      "067.Anna_Hummingbird created\n",
      "068.Ruby_throated_Hummingbird created\n",
      "069.Rufous_Hummingbird created\n",
      "070.Green_Violetear created\n",
      "071.Long_tailed_Jaeger created\n",
      "072.Pomarine_Jaeger created\n",
      "073.Blue_Jay created\n",
      "074.Florida_Jay created\n",
      "075.Green_Jay created\n",
      "076.Dark_eyed_Junco created\n",
      "077.Tropical_Kingbird created\n",
      "078.Gray_Kingbird created\n",
      "079.Belted_Kingfisher created\n",
      "080.Green_Kingfisher created\n",
      "081.Pied_Kingfisher created\n",
      "082.Ringed_Kingfisher created\n",
      "083.White_breasted_Kingfisher created\n",
      "084.Red_legged_Kittiwake created\n",
      "085.Horned_Lark created\n",
      "086.Pacific_Loon created\n",
      "087.Mallard created\n",
      "088.Western_Meadowlark created\n",
      "089.Hooded_Merganser created\n",
      "090.Red_breasted_Merganser created\n",
      "091.Mockingbird created\n",
      "092.Nighthawk created\n",
      "093.Clark_Nutcracker created\n",
      "094.White_breasted_Nuthatch created\n",
      "095.Baltimore_Oriole created\n",
      "096.Hooded_Oriole created\n",
      "097.Orchard_Oriole created\n",
      "098.Scott_Oriole created\n",
      "099.Ovenbird created\n",
      "100.Brown_Pelican created\n",
      "101.White_Pelican created\n",
      "102.Western_Wood_Pewee created\n",
      "103.Sayornis created\n",
      "104.American_Pipit created\n",
      "105.Whip_poor_Will created\n",
      "106.Horned_Puffin created\n",
      "107.Common_Raven created\n",
      "108.White_necked_Raven created\n",
      "109.American_Redstart created\n",
      "110.Geococcyx created\n",
      "111.Loggerhead_Shrike created\n",
      "112.Great_Grey_Shrike created\n",
      "113.Baird_Sparrow created\n",
      "114.Black_throated_Sparrow created\n",
      "115.Brewer_Sparrow created\n",
      "116.Chipping_Sparrow created\n",
      "117.Clay_colored_Sparrow created\n",
      "118.House_Sparrow created\n",
      "119.Field_Sparrow created\n",
      "120.Fox_Sparrow created\n",
      "121.Grasshopper_Sparrow created\n",
      "122.Harris_Sparrow created\n",
      "123.Henslow_Sparrow created\n",
      "124.Le_Conte_Sparrow created\n",
      "125.Lincoln_Sparrow created\n",
      "126.Nelson_Sharp_tailed_Sparrow created\n",
      "127.Savannah_Sparrow created\n",
      "128.Seaside_Sparrow created\n",
      "129.Song_Sparrow created\n",
      "130.Tree_Sparrow created\n",
      "131.Vesper_Sparrow created\n",
      "132.White_crowned_Sparrow created\n",
      "133.White_throated_Sparrow created\n",
      "134.Cape_Glossy_Starling created\n",
      "135.Bank_Swallow created\n",
      "136.Barn_Swallow created\n",
      "137.Cliff_Swallow created\n",
      "138.Tree_Swallow created\n",
      "139.Scarlet_Tanager created\n",
      "140.Summer_Tanager created\n",
      "141.Artic_Tern created\n",
      "142.Black_Tern created\n",
      "143.Caspian_Tern created\n",
      "144.Common_Tern created\n",
      "145.Elegant_Tern created\n",
      "146.Forsters_Tern created\n",
      "147.Least_Tern created\n",
      "148.Green_tailed_Towhee created\n",
      "149.Brown_Thrasher created\n",
      "150.Sage_Thrasher created\n",
      "151.Black_capped_Vireo created\n",
      "152.Blue_headed_Vireo created\n",
      "153.Philadelphia_Vireo created\n",
      "154.Red_eyed_Vireo created\n",
      "155.Warbling_Vireo created\n",
      "156.White_eyed_Vireo created\n",
      "157.Yellow_throated_Vireo created\n",
      "158.Bay_breasted_Warbler created\n",
      "159.Black_and_white_Warbler created\n",
      "160.Black_throated_Blue_Warbler created\n",
      "161.Blue_winged_Warbler created\n",
      "162.Canada_Warbler created\n",
      "163.Cape_May_Warbler created\n",
      "164.Cerulean_Warbler created\n",
      "165.Chestnut_sided_Warbler created\n",
      "166.Golden_winged_Warbler created\n",
      "167.Hooded_Warbler created\n",
      "168.Kentucky_Warbler created\n",
      "169.Magnolia_Warbler created\n",
      "170.Mourning_Warbler created\n",
      "171.Myrtle_Warbler created\n",
      "172.Nashville_Warbler created\n",
      "173.Orange_crowned_Warbler created\n",
      "174.Palm_Warbler created\n",
      "175.Pine_Warbler created\n",
      "176.Prairie_Warbler created\n",
      "177.Prothonotary_Warbler created\n",
      "178.Swainson_Warbler created\n",
      "179.Tennessee_Warbler created\n",
      "180.Wilson_Warbler created\n",
      "181.Worm_eating_Warbler created\n",
      "182.Yellow_Warbler created\n",
      "183.Northern_Waterthrush created\n",
      "184.Louisiana_Waterthrush created\n",
      "185.Bohemian_Waxwing created\n",
      "186.Cedar_Waxwing created\n",
      "187.American_Three_toed_Woodpecker created\n",
      "188.Pileated_Woodpecker created\n",
      "189.Red_bellied_Woodpecker created\n",
      "190.Red_cockaded_Woodpecker created\n",
      "191.Red_headed_Woodpecker created\n",
      "192.Downy_Woodpecker created\n",
      "193.Bewick_Wren created\n",
      "194.Cactus_Wren created\n",
      "195.Carolina_Wren created\n",
      "196.House_Wren created\n",
      "197.Marsh_Wren created\n",
      "198.Rock_Wren created\n",
      "199.Winter_Wren created\n",
      "200.Common_Yellowthroat created\n"
     ]
    }
   ],
   "source": [
    "from os import mkdir\n",
    "l = len(sentences)\n",
    "it = 0\n",
    "save_path = \"embeddings/\"\n",
    "for _class in sorted(listdir(text_path)):\n",
    "    txt_path = os.path.join(text_path, _class)\n",
    "    class_path = save_path+_class\n",
    "    if (_class not in listdir(save_path)) and _class[-2:]!=\"t7\" and _class[-2:]!=\"h5\":\n",
    "        mkdir(class_path)\n",
    "        for file in sorted(listdir(txt_path)):\n",
    "            if file[-2:]!=\"h5\":\n",
    "                file_path = class_path + \"/\" + file\n",
    "                torch.save(model.encode(sentences[it:it+10]), file_path[:-4] + \".t7\")\n",
    "                it+=10\n",
    "        print(_class+\" created\")"
   ]
  },
  {
   "cell_type": "code",
   "execution_count": 10,
   "metadata": {},
   "outputs": [
    {
     "data": {
      "text/plain": [
       "(1, 4096)"
      ]
     },
     "execution_count": 10,
     "metadata": {},
     "output_type": "execute_result"
    }
   ],
   "source": [
    "np.shape(model.encode([sentences[0]], tokenize=True))"
   ]
  },
  {
   "cell_type": "code",
   "execution_count": 8,
   "metadata": {},
   "outputs": [
    {
     "data": {
      "image/png": "[encoded data removed]",
      "text/plain": [
       "<Figure size 432x288 with 1 Axes>"
      ]
     },
     "metadata": {
      "needs_background": "light"
     },
     "output_type": "display_data"
    },
    {
     "data": {
      "text/plain": [
       "(tensor([[ 0.1118,  0.2248,  0.1921,  ...,  0.0039, -0.0381, -0.0087]],\n",
       "        device='cuda:0', grad_fn=<MaxBackward0>),\n",
       " array([[ 4,  9,  8, ..., 19, 21,  4]], dtype=int64))"
      ]
     },
     "execution_count": 8,
     "metadata": {},
     "output_type": "execute_result"
    }
   ],
   "source": [
    "model.visualize(sentences[0], tokenize=True)"
   ]
  },
  {
   "cell_type": "code",
   "execution_count": 16,
   "metadata": {},
   "outputs": [
    {
     "data": {
      "text/plain": [
       "(90, 4096)"
      ]
     },
     "execution_count": 16,
     "metadata": {},
     "output_type": "execute_result"
    }
   ],
   "source": []
  },
  {
   "cell_type": "code",
   "execution_count": null,
   "metadata": {},
   "outputs": [],
   "source": []
  }
 ],
 "metadata": {
  "anaconda-cloud": {},
  "kernelspec": {
   "display_name": "Python 3",
   "language": "python",
   "name": "python3"
  },
  "language_info": {
   "codemirror_mode": {
    "name": "ipython",
    "version": 3
   },
   "file_extension": ".py",
   "mimetype": "text/x-python",
   "name": "python",
   "nbconvert_exporter": "python",
   "pygments_lexer": "ipython3",
   "version": "3.7.1"
  }
 },
 "nbformat": 4,
 "nbformat_minor": 1
}
